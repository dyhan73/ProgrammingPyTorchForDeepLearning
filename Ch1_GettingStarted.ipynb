{
 "nbformat": 4,
 "nbformat_minor": 0,
 "metadata": {
  "colab": {
   "name": "00_Colab_Test_01.ipynb",
   "provenance": [],
   "collapsed_sections": []
  },
  "kernelspec": {
   "name": "python3",
   "language": "python",
   "display_name": "Python 3"
  },
  "accelerator": "GPU",
  "pycharm": {
   "stem_cell": {
    "cell_type": "raw",
    "source": [],
    "metadata": {
     "collapsed": false
    }
   }
  }
 },
 "cells": [
  {
   "cell_type": "markdown",
   "metadata": {
    "id": "zEa8YmtMo2N3",
    "colab_type": "text"
   },
   "source": [
    "## Google Colab test"
   ]
  },
  {
   "cell_type": "markdown",
   "metadata": {
    "id": "YenjH5xuPxoo",
    "colab_type": "text"
   },
   "source": [
    "# Tensor Basic"
   ]
  },
  {
   "cell_type": "code",
   "metadata": {
    "id": "F-AhsgALo05Z",
    "colab_type": "code",
    "colab": {
     "base_uri": "https://localhost:8080/",
     "height": 68
    },
    "outputId": "3359911e-8d3d-4854-aa5c-e1acc47b46e5",
    "executionInfo": {
     "status": "ok",
     "timestamp": 1569372637242,
     "user_tz": -540,
     "elapsed": 2817,
     "user": {
      "displayName": "한대영(Daeyoung Han)/Infra개발팀/SKP 1001235",
      "photoUrl": "https://lh3.googleusercontent.com/a-/AAuE7mAsc0HwqAEdM9NGt0Civ3K3jf11r2Z4TePqEeE_=s64",
      "userId": "08601206189448801738"
     }
    },
    "pycharm": {
     "is_executing": false
    }
   },
   "source": [
    "import torch\n",
    "print(torch.cuda.is_available())\n",
    "print(torch.rand(2,2))"
   ],
   "execution_count": 1,
   "outputs": [
    {
     "name": "stdout",
     "text": [
      "False\ntensor([[0.9480, 0.4534],\n        [0.1148, 0.8286]])\n"
     ],
     "output_type": "stream"
    }
   ]
  },
  {
   "cell_type": "code",
   "metadata": {
    "id": "ICJMeA1epNmA",
    "colab_type": "code",
    "colab": {
     "base_uri": "https://localhost:8080/",
     "height": 68
    },
    "outputId": "121f1899-57bb-4b7a-d56c-35bbc1c55424",
    "executionInfo": {
     "status": "ok",
     "timestamp": 1569226295650,
     "user_tz": -540,
     "elapsed": 1645,
     "user": {
      "displayName": "한대영(Daeyoung Han)/Infra개발팀/SKP 1001235",
      "photoUrl": "https://lh3.googleusercontent.com/a-/AAuE7mAsc0HwqAEdM9NGt0Civ3K3jf11r2Z4TePqEeE_=s64",
      "userId": "08601206189448801738"
     }
    },
    "pycharm": {
     "is_executing": false
    }
   },
   "source": [
    "# Tensors\n",
    "x = torch.tensor([[0,0,1], [1,1,1], [0,0,0]])\n",
    "x"
   ],
   "execution_count": 2,
   "outputs": [
    {
     "data": {
      "text/plain": "tensor([[0, 0, 1],\n        [1, 1, 1],\n        [0, 0, 0]])"
     },
     "metadata": {},
     "output_type": "execute_result",
     "execution_count": 2
    }
   ]
  },
  {
   "cell_type": "code",
   "metadata": {
    "id": "2b97EqPuLLaZ",
    "colab_type": "code",
    "colab": {
     "base_uri": "https://localhost:8080/",
     "height": 68
    },
    "outputId": "16c4640c-d6d5-403d-8028-f446afad36f8",
    "executionInfo": {
     "status": "ok",
     "timestamp": 1569226344903,
     "user_tz": -540,
     "elapsed": 763,
     "user": {
      "displayName": "한대영(Daeyoung Han)/Infra개발팀/SKP 1001235",
      "photoUrl": "https://lh3.googleusercontent.com/a-/AAuE7mAsc0HwqAEdM9NGt0Civ3K3jf11r2Z4TePqEeE_=s64",
      "userId": "08601206189448801738"
     }
    },
    "pycharm": {
     "is_executing": false
    }
   },
   "source": [
    "# Change value of tensor\n",
    "x[0][0] = 5\n",
    "x"
   ],
   "execution_count": 3,
   "outputs": [
    {
     "data": {
      "text/plain": "tensor([[5, 0, 1],\n        [1, 1, 1],\n        [0, 0, 0]])"
     },
     "metadata": {},
     "output_type": "execute_result",
     "execution_count": 3
    }
   ]
  },
  {
   "cell_type": "code",
   "metadata": {
    "id": "TIzFetAuLaIb",
    "colab_type": "code",
    "colab": {
     "base_uri": "https://localhost:8080/",
     "height": 85
    },
    "outputId": "e685b0e4-fcb2-476b-fd60-c85aadd1fb82",
    "executionInfo": {
     "status": "ok",
     "timestamp": 1569226712677,
     "user_tz": -540,
     "elapsed": 1013,
     "user": {
      "displayName": "한대영(Daeyoung Han)/Infra개발팀/SKP 1001235",
      "photoUrl": "https://lh3.googleusercontent.com/a-/AAuE7mAsc0HwqAEdM9NGt0Civ3K3jf11r2Z4TePqEeE_=s64",
      "userId": "08601206189448801738"
     }
    },
    "pycharm": {
     "is_executing": false
    }
   },
   "source": [
    "# using zeros & ones\n",
    "print(torch.zeros(2,2))\n",
    "print(torch.ones(1,2))\n",
    "print(torch.ones(1,2) + torch.ones(1,2))"
   ],
   "execution_count": 4,
   "outputs": [
    {
     "name": "stdout",
     "text": [
      "tensor([[0., 0.],\n        [0., 0.]])\ntensor([[1., 1.]])\ntensor([[2., 2.]])\n"
     ],
     "output_type": "stream"
    }
   ]
  },
  {
   "cell_type": "code",
   "metadata": {
    "id": "wjh2IXcgMFuf",
    "colab_type": "code",
    "colab": {
     "base_uri": "https://localhost:8080/",
     "height": 102
    },
    "outputId": "3296aad1-4105-4360-ce7b-1799e9fab225",
    "executionInfo": {
     "status": "ok",
     "timestamp": 1569227120033,
     "user_tz": -540,
     "elapsed": 1022,
     "user": {
      "displayName": "한대영(Daeyoung Han)/Infra개발팀/SKP 1001235",
      "photoUrl": "https://lh3.googleusercontent.com/a-/AAuE7mAsc0HwqAEdM9NGt0Civ3K3jf11r2Z4TePqEeE_=s64",
      "userId": "08601206189448801738"
     }
    },
    "pycharm": {
     "is_executing": false
    }
   },
   "source": [
    "# get value of rank0\n",
    "print(torch.rand(1).item())\n",
    "print(type(torch.rand(1).item()))\n",
    "print(x[0][0].item())\n",
    "print(type(x[0][0]))\n",
    "print(type(x[0][0].item()))"
   ],
   "execution_count": 5,
   "outputs": [
    {
     "name": "stdout",
     "text": [
      "0.3224375247955322\n<class 'float'>\n5\n<class 'torch.Tensor'>\n<class 'int'>\n"
     ],
     "output_type": "stream"
    }
   ]
  },
  {
   "cell_type": "code",
   "metadata": {
    "id": "5vhs5rOfMiNe",
    "colab_type": "code",
    "colab": {
     "base_uri": "https://localhost:8080/",
     "height": 119
    },
    "outputId": "4ad24f19-e4a2-4810-a45a-e2e3e69f1d7b",
    "executionInfo": {
     "status": "ok",
     "timestamp": 1569227434458,
     "user_tz": -540,
     "elapsed": 1012,
     "user": {
      "displayName": "한대영(Daeyoung Han)/Infra개발팀/SKP 1001235",
      "photoUrl": "https://lh3.googleusercontent.com/a-/AAuE7mAsc0HwqAEdM9NGt0Civ3K3jf11r2Z4TePqEeE_=s64",
      "userId": "08601206189448801738"
     }
    },
    "pycharm": {
     "is_executing": false
    }
   },
   "source": [
    "# using gpu\n",
    "cpu_tensor = torch.rand(2)\n",
    "print(cpu_tensor.device)\n",
    "\n",
    "# gpu_tensor = cpu_tensor.to(\"cuda\") # must fail without gpu\n",
    "# print(gpu_tensor.device)\n",
    "\n",
    "print(cpu_tensor)\n",
    "# print(gpu_tensor)\n",
    "\n",
    "cpu_tensor = torch.rand(2)\n",
    "print(cpu_tensor)\n",
    "# print(gpu_tensor)"
   ],
   "execution_count": 6,
   "outputs": [
    {
     "name": "stdout",
     "text": [
      "cpu\ntensor([0.1778, 0.1432])\ntensor([0.6646, 0.5490])\n"
     ],
     "output_type": "stream"
    }
   ]
  },
  {
   "cell_type": "markdown",
   "metadata": {
    "id": "41rwBz5iQB2M",
    "colab_type": "text"
   },
   "source": [
    "## Tensor Operations"
   ]
  },
  {
   "cell_type": "code",
   "metadata": {
    "id": "OMdpIjCRP0zJ",
    "colab_type": "code",
    "colab": {
     "base_uri": "https://localhost:8080/",
     "height": 85
    },
    "outputId": "b40427de-ad01-455f-d76d-258b20457b09",
    "executionInfo": {
     "status": "ok",
     "timestamp": 1569316108972,
     "user_tz": -540,
     "elapsed": 1613,
     "user": {
      "displayName": "한대영(Daeyoung Han)/Infra개발팀/SKP 1001235",
      "photoUrl": "https://lh3.googleusercontent.com/a-/AAuE7mAsc0HwqAEdM9NGt0Civ3K3jf11r2Z4TePqEeE_=s64",
      "userId": "08601206189448801738"
     }
    },
    "pycharm": {
     "is_executing": false
    }
   },
   "source": [
    "# get max value of tensor\n",
    "a = torch.rand(2,2)\n",
    "print(a)\n",
    "print(a.max())\n",
    "print(a.max().item())"
   ],
   "execution_count": 7,
   "outputs": [
    {
     "name": "stdout",
     "text": [
      "tensor([[0.4768, 0.2670],\n        [0.5984, 0.2894]])\ntensor(0.5984)\n0.5983900427818298\n"
     ],
     "output_type": "stream"
    }
   ]
  },
  {
   "cell_type": "code",
   "metadata": {
    "id": "3aK5jcakheNa",
    "colab_type": "code",
    "colab": {
     "base_uri": "https://localhost:8080/",
     "height": 170
    },
    "outputId": "d6a53100-c413-4852-b426-7d874ffb1fbe",
    "executionInfo": {
     "status": "ok",
     "timestamp": 1569372797289,
     "user_tz": -540,
     "elapsed": 861,
     "user": {
      "displayName": "한대영(Daeyoung Han)/Infra개발팀/SKP 1001235",
      "photoUrl": "https://lh3.googleusercontent.com/a-/AAuE7mAsc0HwqAEdM9NGt0Civ3K3jf11r2Z4TePqEeE_=s64",
      "userId": "08601206189448801738"
     }
    },
    "pycharm": {
     "is_executing": false
    }
   },
   "source": [
    "# convert tensor type\n",
    "long_tensor = torch.tensor([[0,0,1], [0,1,0], [1,0,0]])\n",
    "print(type(long_tensor))\n",
    "print(long_tensor.type())\n",
    "print(long_tensor)\n",
    "\n",
    "float_tensor = torch.tensor([[0,0,1],[1,1,1],[0,0,0]]).to(dtype=torch.float32)\n",
    "print(float_tensor.type())\n",
    "print(float_tensor)"
   ],
   "execution_count": 8,
   "outputs": [
    {
     "name": "stdout",
     "text": [
      "<class 'torch.Tensor'>\ntorch.LongTensor\ntensor([[0, 0, 1],\n        [0, 1, 0],\n        [1, 0, 0]])\ntorch.FloatTensor\ntensor([[0., 0., 1.],\n        [1., 1., 1.],\n        [0., 0., 0.]])\n"
     ],
     "output_type": "stream"
    }
   ]
  },
  {
   "cell_type": "code",
   "metadata": {
    "id": "abhm6zDc5bnN",
    "colab_type": "code",
    "colab": {
     "base_uri": "https://localhost:8080/",
     "height": 187
    },
    "outputId": "8427c207-2547-4243-b4bd-e09c14320188",
    "executionInfo": {
     "status": "ok",
     "timestamp": 1569379294788,
     "user_tz": -540,
     "elapsed": 778,
     "user": {
      "displayName": "한대영(Daeyoung Han)/Infra개발팀/SKP 1001235",
      "photoUrl": "https://lh3.googleusercontent.com/a-/AAuE7mAsc0HwqAEdM9NGt0Civ3K3jf11r2Z4TePqEeE_=s64",
      "userId": "08601206189448801738"
     }
    },
    "pycharm": {
     "is_executing": false
    }
   },
   "source": [
    "# in-place operation with _\n",
    "a = torch.rand(2,2)\n",
    "print(a)\n",
    "print(a.log2())  # new tensor is return\n",
    "print(a)\n",
    "print(a.log2_()) # in-place update with _\n",
    "print(a)"
   ],
   "execution_count": 9,
   "outputs": [
    {
     "name": "stdout",
     "text": [
      "tensor([[0.5158, 0.5292],\n        [0.7255, 0.5891]])\ntensor([[-0.9552, -0.9180],\n        [-0.4630, -0.7634]])\ntensor([[0.5158, 0.5292],\n        [0.7255, 0.5891]])\ntensor([[-0.9552, -0.9180],\n        [-0.4630, -0.7634]])\ntensor([[-0.9552, -0.9180],\n        [-0.4630, -0.7634]])\n"
     ],
     "output_type": "stream"
    }
   ]
  },
  {
   "cell_type": "code",
   "metadata": {
    "id": "z1E41IMGS5rA",
    "colab_type": "code",
    "colab": {
     "base_uri": "https://localhost:8080/",
     "height": 272
    },
    "outputId": "26c97aa5-1e03-4455-ac8b-822e6b262271",
    "executionInfo": {
     "status": "ok",
     "timestamp": 1569386837522,
     "user_tz": -540,
     "elapsed": 841,
     "user": {
      "displayName": "한대영(Daeyoung Han)/Infra개발팀/SKP 1001235",
      "photoUrl": "https://lh3.googleusercontent.com/a-/AAuE7mAsc0HwqAEdM9NGt0Civ3K3jf11r2Z4TePqEeE_=s64",
      "userId": "08601206189448801738"
     }
    },
    "pycharm": {
     "is_executing": false
    }
   },
   "source": [
    "# reshape tensor\n",
    "flat_tensor = torch.rand(28 * 28)\n",
    "print(flat_tensor.shape)\n",
    "print(flat_tensor.size())\n",
    "\n",
    "viewed_tensor = flat_tensor.view(1,28,28)\n",
    "print(viewed_tensor.shape)\n",
    "print(viewed_tensor[0][0])\n",
    "\n",
    "reshaped_tensor = flat_tensor.reshape(1,28,28)\n",
    "print(reshaped_tensor.shape)\n",
    "print(reshaped_tensor[0][0])\n",
    "\n",
    "flat_tensor[0] = 44\n",
    "print(flat_tensor[0])\n",
    "print(viewed_tensor[0][0][0])\n",
    "print(reshaped_tensor[0][0][0])"
   ],
   "execution_count": 10,
   "outputs": [
    {
     "name": "stdout",
     "text": [
      "torch.Size([784])\ntorch.Size([784])\ntorch.Size([1, 28, 28])\ntensor([0.5952, 0.8111, 0.7891, 0.7171, 0.7734, 0.5779, 0.4158, 0.9934, 0.1987,\n        0.6993, 0.0828, 0.3646, 0.0065, 0.4439, 0.9448, 0.7222, 0.7886, 0.9632,\n        0.5424, 0.4507, 0.4189, 0.5099, 0.5450, 0.4108, 0.4461, 0.3561, 0.6549,\n        0.1428])\ntorch.Size([1, 28, 28])\ntensor([0.5952, 0.8111, 0.7891, 0.7171, 0.7734, 0.5779, 0.4158, 0.9934, 0.1987,\n        0.6993, 0.0828, 0.3646, 0.0065, 0.4439, 0.9448, 0.7222, 0.7886, 0.9632,\n        0.5424, 0.4507, 0.4189, 0.5099, 0.5450, 0.4108, 0.4461, 0.3561, 0.6549,\n        0.1428])\ntensor(44.)\ntensor(44.)\ntensor(44.)\n"
     ],
     "output_type": "stream"
    }
   ]
  },
  {
   "cell_type": "code",
   "metadata": {
    "id": "GCdLSaB4potx",
    "colab_type": "code",
    "colab": {
     "base_uri": "https://localhost:8080/",
     "height": 34
    },
    "outputId": "a36618c5-fa65-48a7-9022-e6cd573aff35",
    "executionInfo": {
     "status": "ok",
     "timestamp": 1569387281859,
     "user_tz": -540,
     "elapsed": 978,
     "user": {
      "displayName": "한대영(Daeyoung Han)/Infra개발팀/SKP 1001235",
      "photoUrl": "https://lh3.googleusercontent.com/a-/AAuE7mAsc0HwqAEdM9NGt0Civ3K3jf11r2Z4TePqEeE_=s64",
      "userId": "08601206189448801738"
     }
    },
    "pycharm": {
     "is_executing": false
    }
   },
   "source": [
    "# rearrange the dimension\n",
    "hwc_tensor = torch.rand(640, 480, 3) # Width, Height, Channel\n",
    "chw_tensor = hwc_tensor.permute(2, 0, 1) # permute to Channel x W x H\n",
    "print(chw_tensor.shape)"
   ],
   "execution_count": 11,
   "outputs": [
    {
     "name": "stdout",
     "text": [
      "torch.Size([3, 640, 480])\n"
     ],
     "output_type": "stream"
    }
   ]
  },
  {
   "cell_type": "code",
   "metadata": {
    "id": "GR5b_VNWyzRo",
    "colab_type": "code",
    "colab": {
     "base_uri": "https://localhost:8080/",
     "height": 204
    },
    "outputId": "fb650c00-09b6-40f5-c705-947c19b170ef",
    "executionInfo": {
     "status": "ok",
     "timestamp": 1569387903975,
     "user_tz": -540,
     "elapsed": 893,
     "user": {
      "displayName": "한대영(Daeyoung Han)/Infra개발팀/SKP 1001235",
      "photoUrl": "https://lh3.googleusercontent.com/a-/AAuE7mAsc0HwqAEdM9NGt0Civ3K3jf11r2Z4TePqEeE_=s64",
      "userId": "08601206189448801738"
     }
    },
    "pycharm": {
     "is_executing": false
    }
   },
   "source": [
    "# tensor broadcasting\n",
    "a = torch.tensor([[1,1,1], [2,2,2], [3,3,3]])\n",
    "print(a)\n",
    "b = torch.tensor([[4,4], [5,5]])\n",
    "print(b)\n",
    "# print (a + b) # occur exception\n",
    "c = torch.tensor([6,6,6])\n",
    "print(a + c) # brocasting with 1x3\n",
    "d = torch.tensor([[6], [7], [8]])\n",
    "print(a + d) # broadcasting with 3x1\n",
    "\n"
   ],
   "execution_count": 12,
   "outputs": [
    {
     "name": "stdout",
     "text": [
      "tensor([[1, 1, 1],\n        [2, 2, 2],\n        [3, 3, 3]])\ntensor([[4, 4],\n        [5, 5]])\ntensor([[7, 7, 7],\n        [8, 8, 8],\n        [9, 9, 9]])\ntensor([[ 7,  7,  7],\n        [ 9,  9,  9],\n        [11, 11, 11]])\n"
     ],
     "output_type": "stream"
    }
   ]
  }
 ]
}